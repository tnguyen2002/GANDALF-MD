{
 "cells": [
  {
   "cell_type": "code",
   "execution_count": 3,
   "id": "8dbd233a",
   "metadata": {},
   "outputs": [],
   "source": [
    "%%bash\n",
    "#source init_env.sh\n",
    "export PYTHONPATH=${PYTHONPATH}:$(pwd)"
   ]
  },
  {
   "cell_type": "code",
   "execution_count": 4,
   "id": "02065622",
   "metadata": {},
   "outputs": [
    {
     "name": "stdout",
     "output_type": "stream",
     "text": [
      "/home/xiluohe/feature_suppression_viewmaker\r\n"
     ]
    }
   ],
   "source": [
    "!pwd"
   ]
  },
  {
   "cell_type": "code",
   "execution_count": 5,
   "id": "c26b1a97",
   "metadata": {},
   "outputs": [],
   "source": [
    "import src\n",
    "import numpy as np\n",
    "import matplotlib.pyplot as plt"
   ]
  },
  {
   "cell_type": "code",
   "execution_count": 6,
   "id": "6565d4f1",
   "metadata": {},
   "outputs": [
    {
     "name": "stdout",
     "output_type": "stream",
     "text": [
      "Files already downloaded and verified\n"
     ]
    }
   ],
   "source": [
    "from src.datasets import cifar10\n",
    "from torchvision import transforms\n",
    "from PIL import ImageFilter, Image\n",
    "import random\n",
    "\n",
    "class GaussianBlur(object):\n",
    "    \"\"\"Gaussian blur augmentation in SimCLR https://arxiv.org/abs/2002.05709\"\"\"\n",
    "\n",
    "    def __init__(self, sigma=(0.1, 2.0)):\n",
    "        self.sigma = sigma\n",
    "\n",
    "    def __call__(self, x):\n",
    "        sigma = random.uniform(self.sigma[0], self.sigma[1])\n",
    "        x = x.filter(ImageFilter.GaussianBlur(radius=sigma))\n",
    "        return x\n",
    "\n",
    "train_transforms = transforms.Compose([\n",
    "            transforms.RandomResizedCrop(32, scale=(0.2, 1.)),\n",
    "            transforms.RandomApply([\n",
    "                transforms.ColorJitter(0.4, 0.4, 0.4, 0.1)  # not strengthened\n",
    "            ], p=0.8),\n",
    "            transforms.RandomGrayscale(p=0.2),\n",
    "            transforms.RandomApply([GaussianBlur([.1, 2.])], p=0.5),\n",
    "            transforms.RandomHorizontalFlip(),\n",
    "            transforms.ToTensor(),\n",
    "            #transforms.Normalize(mean=[0.491, 0.482, 0.446],\n",
    "            #                    std=[0.247, 0.243, 0.261]),\n",
    "        ])\n",
    "\n",
    "test_transforms = transforms.Compose([\n",
    "            transforms.Resize(32),\n",
    "            transforms.CenterCrop(32),\n",
    "            transforms.ToTensor(),\n",
    "        ])\n",
    "\n",
    "dataset = cifar10.CIFAR10Shapes(image_transforms = train_transforms, alternate_label=False)"
   ]
  },
  {
   "cell_type": "code",
   "execution_count": 21,
   "id": "977caca5",
   "metadata": {},
   "outputs": [
    {
     "name": "stdout",
     "output_type": "stream",
     "text": [
      "Files already downloaded and verified\n",
      "Files already downloaded and verified\n"
     ]
    },
    {
     "data": {
      "text/plain": [
       "<All keys matched successfully>"
      ]
     },
     "execution_count": 21,
     "metadata": {},
     "output_type": "execute_result"
    }
   ],
   "source": [
    "import os\n",
    "from src.utils import utils\n",
    "import dotmap\n",
    "from dotmap import DotMap\n",
    "from src.systems.image_systems import PretrainViewMakerSystem\n",
    "from src.systems.image_systems import PretrainExpertSystem\n",
    "import torch\n",
    "\n",
    "base_dir = '/mnt/fs0/atamkin/feature_suppression_xiluo/experiments_old/pretrain_viewmaker_cifarshape_s1/'\n",
    "config_path = os.path.join(base_dir, 'config.json')\n",
    "config_json = utils.load_json(config_path)\n",
    "config = DotMap(config_json)\n",
    "SystemClass = globals()[config.system]\n",
    "system = SystemClass(config)\n",
    "checkpoint_file = os.path.join(base_dir, 'checkpoints', 'epoch=199.ckpt')\n",
    "system.load_state_dict(torch.load(checkpoint_file, map_location='cpu')['state_dict'])"
   ]
  },
  {
   "cell_type": "code",
   "execution_count": 27,
   "id": "02422a4c",
   "metadata": {},
   "outputs": [],
   "source": [
    "img_idx = 0\n",
    "example = system.train_dataset[img_idx][1]\n",
    "example = example.unsqueeze(0)\n",
    "vm_view = system.viewmaker(example)\n",
    "expert_view = dataset[img_idx][1]"
   ]
  },
  {
   "cell_type": "code",
   "execution_count": 28,
   "id": "a5b8bc5b",
   "metadata": {},
   "outputs": [
    {
     "name": "stderr",
     "output_type": "stream",
     "text": [
      "Clipping input data to the valid range for imshow with RGB data ([0..1] for floats or [0..255] for integers).\n"
     ]
    },
    {
     "data": {
      "text/plain": [
       "<matplotlib.image.AxesImage at 0x7f9e70034a30>"
      ]
     },
     "execution_count": 28,
     "metadata": {},
     "output_type": "execute_result"
    },
    {
     "data": {
      "image/png": "[encoded data removed]",
      "text/plain": [
       "<Figure size 432x288 with 1 Axes>"
      ]
     },
     "metadata": {
      "needs_background": "light"
     },
     "output_type": "display_data"
    }
   ],
   "source": [
    "plt.imshow(vm_view[0].detach().permute(1,2,0))"
   ]
  },
  {
   "cell_type": "code",
   "execution_count": 29,
   "id": "20e72e5f",
   "metadata": {},
   "outputs": [
    {
     "data": {
      "text/plain": [
       "<matplotlib.image.AxesImage at 0x7f9e7027e550>"
      ]
     },
     "execution_count": 29,
     "metadata": {},
     "output_type": "execute_result"
    },
    {
     "data": {
      "image/png": "[encoded data removed]",
      "text/plain": [
       "<Figure size 432x288 with 1 Axes>"
      ]
     },
     "metadata": {
      "needs_background": "light"
     },
     "output_type": "display_data"
    }
   ],
   "source": [
    "plt.imshow(expert_view.permute(1,2,0))"
   ]
  },
  {
   "cell_type": "code",
   "execution_count": null,
   "id": "b39a07cb",
   "metadata": {},
   "outputs": [],
   "source": []
  }
 ],
 "metadata": {
  "kernelspec": {
   "display_name": "Python 3",
   "language": "python",
   "name": "python3"
  },
  "language_info": {
   "codemirror_mode": {
    "name": "ipython",
    "version": 3
   },
   "file_extension": ".py",
   "mimetype": "text/x-python",
   "name": "python",
   "nbconvert_exporter": "python",
   "pygments_lexer": "ipython3",
   "version": "3.9.4"
  }
 },
 "nbformat": 4,
 "nbformat_minor": 5
}
